{
 "cells": [
  {
   "cell_type": "code",
   "execution_count": 1,
   "metadata": {},
   "outputs": [],
   "source": [
    "import cv2\n",
    "import numpy as np\n",
    "import matplotlib.pyplot as plt"
   ]
  },
  {
   "cell_type": "code",
   "execution_count": 2,
   "metadata": {},
   "outputs": [],
   "source": [
    "imgs = []\n",
    "name_list = ['batman_1', 'batman_2', 'indoor_1', 'outdoor_1', 'outdoor_2', 'scene_1', 'scene_2', 'scene_3']\n",
    "for name in name_list:\n",
    "    imgs.append(cv2.imread('../images/'+name+'.jpg'))"
   ]
  },
  {
   "cell_type": "code",
   "execution_count": 3,
   "metadata": {},
   "outputs": [],
   "source": [
    "def plot_img(img, gray=False):\n",
    "    fig = plt.figure(figsize=(10, 14))\n",
    "    ax = fig.add_subplot(111)\n",
    "    if gray == False:\n",
    "        img = img[:, :, :: -1]\n",
    "        ax.imshow(img)\n",
    "    else:\n",
    "        ax.imshow(img, cmap='gray')\n",
    "\n",
    "    plt.xticks([]), plt.yticks([])\n",
    "    plt.show()"
   ]
  },
  {
   "cell_type": "code",
   "execution_count": 4,
   "metadata": {},
   "outputs": [],
   "source": [
    "def get_ksize(sigma):\n",
    "    # opencv calculates ksize from sigma as follows\n",
    "    # sigma = 0.3*((ksize-1)*0.5 - 1) + 0.8\n",
    "    # ksize = ((sigma - 0.8)/0.15) + 2.0\n",
    "    \n",
    "    return int(((sigma - 0.8)/0.15) + 2.0)\n",
    "\n",
    "def get_gaussian_blur(img, ksize=0, sigma=5):\n",
    "    # if ksize == 0, then compute ksize from sigma\n",
    "    if ksize == 0:\n",
    "        ksize = get_ksize(sigma)\n",
    "    \n",
    "    # Gaussian 2D-kernel can be seperable into 2-orthogonal vectors\n",
    "    # then compute full kernel by taking outer product or simply mul(V, V.T)\n",
    "    sep_k = cv2.getGaussianKernel(ksize, sigma)\n",
    "    \n",
    "    # if ksize >= 11, then convolution is computed by applying fourier transform\n",
    "    return cv2.filter2D(img, -1, np.outer(sep_k, sep_k))"
   ]
  },
  {
   "cell_type": "code",
   "execution_count": 6,
   "metadata": {},
   "outputs": [],
   "source": [
    "def ssr(img, sigma):\n",
    "    # Single-scale retinex of an image\n",
    "    # SSR(x, y) = log(I(x, y)) - log(I(x, y)*F(x, y))\n",
    "    # F = surrounding function, here Gaussian\n",
    "    \n",
    "    return np.log10(img + 1.0) - np.log10(get_gaussian_blur(img, ksize=0, sigma=sigma) + 1.0)"
   ]
  },
  {
   "cell_type": "code",
   "execution_count": 39,
   "metadata": {},
   "outputs": [],
   "source": [
    "def msr(img, sigma_scales=[15, 80, 250], apply_normalization=True):\n",
    "    # Multi-scale retinex of an image\n",
    "    # MSR(x,y) = sum(weight[i]*SSR(x,y, scale[i])), i = {1..n} scales\n",
    "    \n",
    "    msr = np.zeros(img.shape)\n",
    "    # for each sigma scale compute SSR\n",
    "    for sigma in sigma_scales:\n",
    "        msr += ssr(img, sigma)\n",
    "    \n",
    "    # divide MSR by weights of each scale\n",
    "    # here we use equal weights\n",
    "    msr = msr / len(sigma_scales)\n",
    "    \n",
    "    # computed MSR could be in range [-k, +l], k and l could be any real value\n",
    "    # so normalize the MSR image values in range [0, 255]\n",
    "    if apply_normalization:\n",
    "        msr = cv2.normalize(msr, None, 0, 255, cv2.NORM_MINMAX, dtype=cv2.CV_8UC3)\n",
    "    \n",
    "    return msr"
   ]
  },
  {
   "cell_type": "code",
   "execution_count": 22,
   "metadata": {},
   "outputs": [],
   "source": [
    "def color_balance(img, low_per, high_per):\n",
    "    '''Contrast stretch img by histogram equilization with black and white cap'''\n",
    "    \n",
    "    tot_pix = img.shape[1] * img.shape[0]\n",
    "    # no.of pixels to black-out and white-out\n",
    "    low_count = tot_pix * low_per / 100\n",
    "    high_count = tot_pix * (100 - high_per) / 100\n",
    "\n",
    "    # channels of image\n",
    "    ch_list = []\n",
    "    if len(img.shape) == 2:\n",
    "        ch_list = [img]\n",
    "    else:\n",
    "        ch_list = cv2.split(img)\n",
    "    \n",
    "    cs_img = []\n",
    "    # for each channel, apply contrast-stretch\n",
    "    for i in range(len(ch_list)):\n",
    "        ch = ch_list[i]\n",
    "        # cummulative histogram sum of channel\n",
    "        cum_hist_sum = np.cumsum(cv2.calcHist([ch], [0], None, [256], (0, 256)))\n",
    "\n",
    "        # find indices for blacking and whiting out pixels\n",
    "        li, hi = np.searchsorted(cum_hist_sum, (low_count, high_count))\n",
    "        if (li == hi):\n",
    "            cs_img.append(ch)\n",
    "            continue\n",
    "        # lut with min-max normalization for [0-255] bins\n",
    "        lut = np.array([0 if i < li \n",
    "                        else (255 if i > hi else round((i - li) / (hi - li) * 255)) \n",
    "                        for i in np.arange(0, 256)], dtype = 'uint8')\n",
    "        # constrast-stretch channel\n",
    "        cs_ch = cv2.LUT(ch, lut)\n",
    "        cs_img.append(cs_ch)\n",
    "    \n",
    "    if len(cs_img) == 1:\n",
    "        return np.squeeze(cs_img)\n",
    "    elif len(cs_img) > 1:\n",
    "        return cv2.merge(cs_img)\n",
    "    return None"
   ]
  },
  {
   "cell_type": "code",
   "execution_count": 40,
   "metadata": {},
   "outputs": [],
   "source": [
    "def msrcr(img, sigma_scales=[15, 80, 250], alpha=125, beta=46, G=192, b=-30, low_per=1, high_per=1):\n",
    "    # Multi-scale retinex with Color Restoration\n",
    "    # MSRCR(x,y) = G * [MSR(x,y)*CRF(x,y) - b], G=gain and b=offset\n",
    "    # CRF(x,y) = beta*[log(alpha*I(x,y) - log(I'(x,y))]\n",
    "    # I'(x,y) = sum(Ic(x,y)), c={0...k-1}, k=no.of channels\n",
    "    \n",
    "    img = img.astype(np.float64) + 1.0\n",
    "    # Multi-scale retinex and don't normalize the output (MSR)\n",
    "    msr_img = msr(img, sigma_scales, apply_normalization=False)\n",
    "    # Color-restoration function (CRF)\n",
    "    crf = beta * (np.log10(alpha * img) - np.log10(np.sum(img, axis=2, keepdims=True)))\n",
    "    # MSRCR\n",
    "    msrcr = G * (msr_img*crf - b)\n",
    "    # normalize MSRCR\n",
    "    msrcr = cv2.normalize(msrcr, None, 0, 255, cv2.NORM_MINMAX, dtype=cv2.CV_8UC3)\n",
    "    # color balance the final MSRCR to flat the histogram distribution with tails on both sides\n",
    "    msrcr = color_balance(msrcr, low_per, high_per)\n",
    "    \n",
    "    return msrcr"
   ]
  },
  {
   "cell_type": "code",
   "execution_count": 45,
   "metadata": {},
   "outputs": [],
   "source": [
    "def msrcp(img, sigma_scales=[15, 80, 250], low_per=1, high_per=1):\n",
    "    # Multi-scale retinex with Color Preservation\n",
    "    # Int(x,y) = sum(Ic(x,y))/3, c={0...k-1}, k=no.of channels\n",
    "    # MSR_Int(x,y) = MSR(Int(x,y)), and apply color balance\n",
    "    # B(x,y) = MAX_VALUE/max(Ic(x,y))\n",
    "    # A(x,y) = max(B(x,y), MSR_Int(x,y)/Int(x,y))\n",
    "    # MSRCP = A*I\n",
    "    \n",
    "    # Intensity image (Int)\n",
    "    int_img = (np.sum(img, axis=2) / img.shape[2]) + 1.0\n",
    "    # Multi-scale retinex of intensity image (MSR)\n",
    "    msr_int = msr(int_img, sigma_scales)\n",
    "    # color balance of MSR\n",
    "    msr_cb = color_balance(msr_int, low_per, high_per)\n",
    "    \n",
    "    # B = MAX/max(Ic)\n",
    "    B = 256.0 / (np.max(img, axis=2) + 1.0)\n",
    "    # BB = stack(B, MSR/Int)\n",
    "    BB = np.array([B, msr_cb/int_img])\n",
    "    # A = min(BB)\n",
    "    A = np.min(BB, axis=0)\n",
    "    # MSRCP = A*I\n",
    "    msrcp = np.clip(np.expand_dims(A, 2) * img, 0.0, 255.0)\n",
    "    \n",
    "    return msrcp.astype(np.uint8)"
   ]
  },
  {
   "cell_type": "code",
   "execution_count": null,
   "metadata": {},
   "outputs": [],
   "source": []
  }
 ],
 "metadata": {
  "kernelspec": {
   "display_name": "Python 3",
   "language": "python",
   "name": "python3"
  },
  "language_info": {
   "codemirror_mode": {
    "name": "ipython",
    "version": 3
   },
   "file_extension": ".py",
   "mimetype": "text/x-python",
   "name": "python",
   "nbconvert_exporter": "python",
   "pygments_lexer": "ipython3",
   "version": "3.8.10"
  }
 },
 "nbformat": 4,
 "nbformat_minor": 4
}
