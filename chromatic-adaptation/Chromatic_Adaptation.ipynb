{
 "cells": [
  {
   "cell_type": "code",
   "execution_count": null,
   "metadata": {},
   "outputs": [],
   "source": [
    "import cv2\n",
    "import numpy as np\n",
    "import matplotlib.pyplot as plt\n",
    "plt.rcParams['font.size'] = '16'"
   ]
  },
  {
   "cell_type": "code",
   "execution_count": null,
   "metadata": {},
   "outputs": [],
   "source": [
    "bm_img_names = ['bm-org.jpg', 'bm-1.jpg', 'bm-2.jpg', 'bm-3.jpg', 'bm-4.jpg', 'bm-5.jpg']\n",
    "sw_img_names = ['sw-org.jpg', 'sw-1.jpg', 'sw-2.jpg', 'sw-3.jpg']\n",
    "jw_img_names = ['jw-org.jpg', 'jw-1.jpg', 'jw-2.jpg', 'jw-3.jpg']\n",
    "gl_img_names = ['Wb_girl_neutral.jpg', 'Wb_girl_cold.jpg', 'Wb_girl_warm.jpg']\n",
    "\n",
    "bm_img_paths = 'images/' + np.char.array(bm_img_names)\n",
    "sw_img_paths = 'images/' + np.char.array(sw_img_names)\n",
    "jw_img_paths = 'images/' + np.char.array(jw_img_names)\n",
    "gl_img_paths = 'images/' + np.char.array(gl_img_names)"
   ]
  },
  {
   "cell_type": "code",
   "execution_count": null,
   "metadata": {},
   "outputs": [],
   "source": [
    "def get_images(img_paths):\n",
    "    imgs = []\n",
    "    for img_path in img_paths:\n",
    "        imgs.append(cv2.imread(img_path))\n",
    "    return imgs"
   ]
  },
  {
   "cell_type": "code",
   "execution_count": null,
   "metadata": {},
   "outputs": [],
   "source": [
    "bm_imgs = get_images(bm_img_paths)\n",
    "sw_imgs = get_images(sw_img_paths)\n",
    "jw_imgs = get_images(jw_img_paths)\n",
    "gl_imgs = get_images(gl_img_paths)"
   ]
  },
  {
   "cell_type": "code",
   "execution_count": null,
   "metadata": {},
   "outputs": [],
   "source": [
    "def plot_img(img, figsize=(8, 10)):\n",
    "    fig = plt.figure(figsize=figsize)\n",
    "    ax = fig.add_subplot(111)\n",
    "    ax.imshow(img[:, :, ::-1])\n",
    "    plt.setp(plt.gcf().get_axes(), xticks=[], yticks=[])\n",
    "    plt.show()"
   ]
  },
  {
   "cell_type": "code",
   "execution_count": null,
   "metadata": {},
   "outputs": [],
   "source": [
    "D65_WHITE_POINT_XYZ = np.array([0.95047, 1., 1.08883])\n",
    "\n",
    "RGB_TO_XYZ = np.array([[0.412453, 0.357580, 0.180423], \n",
    "                       [0.212671, 0.715160, 0.072169], \n",
    "                       [0.019334, 0.119193, 0.950227]])\n",
    "\n",
    "XYZ_TO_RGB = np.array([[3.240481, -1.537151, -0.498536],\n",
    "                       [-0.969256, 1.875990, 0.0415560],\n",
    "                       [0.055647, -0.204041, 1.057311]])\n",
    "\n",
    "BRADFORD = np.array([[0.8951, 0.2664, -0.1614], \n",
    "                     [-0.7502, 1.7135, 0.0367], \n",
    "                     [0.0389, -0.0685, 1.0296]])\n",
    "\n",
    "VON_KRIES = np.array([[0.40024, 0.70760, -0.08081],\n",
    "                      [-0.22630, 1.16532, 0.04570],\n",
    "                      [0.00000, 0.00000, 0.91822]])\n",
    "\n",
    "SHARP = np.array([[1.2694, -0.0988, -0.1706],\n",
    "                  [-0.8364, 1.8006, 0.0357],\n",
    "                  [0.0297, -0.0315, 1.0018]])\n",
    "\n",
    "CAT2000 = np.array([[0.7982, 0.3389, -0.1371],\n",
    "                    [-0.5918, 1.5512, 0.0406], \n",
    "                    [0.0008, 0.2390, 0.9753]])\n",
    "\n",
    "CAT02 = np.array([[0.7328, 0.4296, -0.1624],\n",
    "                  [-0.7036, 1.6975, 0.0061],\n",
    "                  [0.0030, 0.0136, 0.9834]])"
   ]
  },
  {
   "cell_type": "code",
   "execution_count": null,
   "metadata": {},
   "outputs": [],
   "source": [
    "def srgb_to_linear(srgb):\n",
    "    # 'sRGB' in [0.0, 1.0]\n",
    "    \n",
    "    ln_rgb = srgb.copy()\n",
    "    mask = ln_rgb > 0.04045\n",
    "    ln_rgb[mask] = np.power((ln_rgb[mask] + 0.055) / 1.055, 2.4)\n",
    "    ln_rgb[~mask] /= 12.92\n",
    "    return ln_rgb\n",
    "\n",
    "def linear_to_srgb(linear):\n",
    "    # 'linear RGB' in [0.0, 1.0]\n",
    "    \n",
    "    srgb = linear.copy()\n",
    "    mask = srgb > 0.0031308\n",
    "    srgb[mask] = 1.055 * np.power(srgb[mask], 1 / 2.4) - 0.055\n",
    "    srgb[~mask] *= 12.92\n",
    "    return np.clip(srgb, 0.0, 1.0)\n",
    "\n",
    "def srgb_to_xyz(srgb):\n",
    "    # convert 'sRGB' to 'linear RGB'\n",
    "    rgb = srgb_to_linear(srgb)\n",
    "    # convert 'linear RGB' to 'XYZ'\n",
    "    return rgb @ RGB_TO_XYZ.T\n",
    "\n",
    "def xyz_to_srgb(xyz):\n",
    "    # convert 'XYZ' to 'linear RGB'\n",
    "    rgb = xyz @ XYZ_TO_RGB.T\n",
    "    # convert back 'linear RGB' to 'sRGB'\n",
    "    return linear_to_srgb(rgb)\n",
    "\n",
    "def normalize_xyz(xyz):\n",
    "    # normalize 'XYZ' with 'Y' so that 'Y' represents luminance\n",
    "    return xyz / xyz[1]\n",
    "\n",
    "def xyz_to_xy(xyz):\n",
    "    return np.array([xyz[0] / xyz.sum(), xyz[1] / xyz.sum()])\n",
    "\n",
    "def xy_to_xyz(xy, Y):\n",
    "    x = xy[0]\n",
    "    y = xy[1]\n",
    "    return np.array([Y / y * x, Y, Y / (y*(1-x-y))])"
   ]
  },
  {
   "cell_type": "code",
   "execution_count": null,
   "metadata": {},
   "outputs": [],
   "source": [
    "def get_cat_matrix(cat_type = 'BRADFORD'):\n",
    "    if cat_type == 'BRADFORD':\n",
    "        return BRADFORD\n",
    "    elif cat_type == 'VON_KRIES':\n",
    "        return VON_KRIES\n",
    "    elif cat_type == 'SHARP':\n",
    "        return SHARP\n",
    "    elif cat_type == 'CAT2000':\n",
    "        return CAT2000\n",
    "    else:\n",
    "        return CAT02\n",
    "    \n",
    "def xyz_to_lms(xyz, M):\n",
    "    return xyz @ M.T\n",
    "\n",
    "def get_gain(lms_src, lms_dst):\n",
    "    return lms_dst / lms_src\n",
    "\n",
    "def transform_lms(M, gain):\n",
    "    return np.linalg.inv(M) @ np.diag(gain) @ M"
   ]
  },
  {
   "cell_type": "code",
   "execution_count": null,
   "metadata": {},
   "outputs": [],
   "source": [
    "def get_gray_world_illuminant(img):\n",
    "    # image in sRGB with range [0.0, 1.0]\n",
    "    # convert sRGB to linear RGB\n",
    "    ln_img = srgb_to_linear(img)\n",
    "    # mean of each channel\n",
    "    avg_ch = ln_img.mean(axis=(0, 1))\n",
    "    # convert back RGB mean values to sRGB\n",
    "    return linear_to_srgb(avg_ch)"
   ]
  },
  {
   "cell_type": "code",
   "execution_count": null,
   "metadata": {},
   "outputs": [],
   "source": [
    "def get_colorchecker_coord(img):\n",
    "    # initialize CCDetector object\n",
    "    checker_detector = cv2.mcc.CCheckerDetector_create()\n",
    "    # detect classic Macbeth 24 color grid chart\n",
    "    has_chart = checker_detector.process(img, cv2.mcc.MCC24, 1)\n",
    "    # if any chart present\n",
    "    if has_chart:\n",
    "        # ColorChecker chart coordinates\n",
    "        # order - (tl, tr, br, bl)\n",
    "        box = checker_detector.getListColorChecker()[0].getBox()\n",
    "        min_x = int(min(box[0][0], box[3][0]))\n",
    "        max_x = int(max(box[1][0], box[2][0]))\n",
    "        min_y = int(min(box[0][1], box[1][1]))\n",
    "        max_y = int(max(box[2][1], box[3][1]))\n",
    "        coord = [(min_x, min_y), (max_x, max_y)]\n",
    "        return [True, coord]\n",
    "    else:\n",
    "        return [False, []]"
   ]
  },
  {
   "cell_type": "code",
   "execution_count": null,
   "metadata": {},
   "outputs": [],
   "source": [
    "def chromatic_adaptation_image(src_white_point, dst_white_point, src_img, cat_type = 'BRADFORD'):\n",
    "    # convert white point in 'sRGB' to 'XYZ' \n",
    "    # and normalize 'XYZ' that 'Y' as luminance\n",
    "    xyz_src = srgb_to_xyz(src_white_point)\n",
    "    n_xyz_src = normalize_xyz(xyz_src)\n",
    "    xyz_dst = srgb_to_xyz(dst_white_point)\n",
    "    n_xyz_dst = normalize_xyz(xyz_dst)\n",
    "\n",
    "    # get CAT type matrix\n",
    "    cat_m = get_cat_matrix(cat_type)\n",
    "\n",
    "    # convert 'XYZ' to 'LMS'\n",
    "    lms_src = xyz_to_lms(n_xyz_src, cat_m)\n",
    "    lms_dst = xyz_to_lms(n_xyz_dst, cat_m)\n",
    "    # LMS gain by scaling destination with source LMS\n",
    "    gain = get_gain(lms_src, lms_dst)\n",
    "\n",
    "    # multiply CAT matrix with LMS gain factors\n",
    "    ca_transform = transform_lms(cat_m, gain)\n",
    "    \n",
    "    # convert 'sRGB' source image to 'XYZ' \n",
    "    src_img_xyz = srgb_to_xyz(src_img)\n",
    "    \n",
    "    # apply CAT transform to image\n",
    "    transformed_xyz = src_img_xyz @ ca_transform.T\n",
    "    \n",
    "    # convert back 'XYZ' to 'sRGB' image\n",
    "    transformed_img = xyz_to_srgb(transformed_xyz)\n",
    "    \n",
    "    return transformed_img"
   ]
  },
  {
   "cell_type": "code",
   "execution_count": null,
   "metadata": {},
   "outputs": [],
   "source": [
    "# read image which generally in sRGB format\n",
    "src_img = gl_imgs[0].copy()\n",
    "# reverse channel order from BGR to RGB and scale to 1.0\n",
    "r_img = src_img[:, :, ::-1] / 255\n",
    "\n",
    "# get source illuminant by illumination estimation\n",
    "src_white_point = np.array([1.0, 1.0, 1.0])\n",
    "has_chart, coord = get_colorchecker_coord(src_img)\n",
    "if has_chart:\n",
    "    src_white_point = get_gray_world_illuminant(r_img[coord[0][1]: coord[1][1], coord[0][0]: coord[1][0]])\n",
    "else:\n",
    "    src_white_point = get_gray_world_illuminant(r_img)\n",
    "dst_white_point = np.array([1.0, 1.0, 1.0])\n",
    "\n",
    "# apply chromatic apatation for source image\n",
    "ca_img = chromatic_adaptation_image(src_white_point, dst_white_point, r_img, cat_type='BRADFORD')\n",
    "\n",
    "# reverse channel order from RGB to BGR, and rescale to 255\n",
    "ca_img = (ca_img[:, :, ::-1] * 255).astype(np.uint8)"
   ]
  },
  {
   "cell_type": "code",
   "execution_count": null,
   "metadata": {},
   "outputs": [],
   "source": [
    "plot_img(np.hstack((src_img, ca_img)), figsize=(20, 8))"
   ]
  },
  {
   "cell_type": "code",
   "execution_count": null,
   "metadata": {},
   "outputs": [],
   "source": [
    "#rgb_img = (img).astype(np.uint8)\n",
    "\n",
    "fig = plt.figure(figsize=(15,8), constrained_layout=True, facecolor='white')\n",
    "ax1 = fig.add_subplot(121, title='Source Image')\n",
    "ax1.imshow(src_img[:, :, ::-1])\n",
    "\n",
    "ax2 = fig.add_subplot(122, title='Transformed Image')\n",
    "ax2.imshow(ca_img[:, :, ::-1])\n",
    "\n",
    "plt.setp(plt.gcf().get_axes(), xticks=[], yticks=[])\n",
    "plt.show()"
   ]
  },
  {
   "cell_type": "code",
   "execution_count": null,
   "metadata": {},
   "outputs": [],
   "source": []
  }
 ],
 "metadata": {
  "kernelspec": {
   "display_name": "Python 3",
   "language": "python",
   "name": "python3"
  },
  "language_info": {
   "codemirror_mode": {
    "name": "ipython",
    "version": 3
   },
   "file_extension": ".py",
   "mimetype": "text/x-python",
   "name": "python",
   "nbconvert_exporter": "python",
   "pygments_lexer": "ipython3",
   "version": "3.8.10"
  }
 },
 "nbformat": 4,
 "nbformat_minor": 4
}
